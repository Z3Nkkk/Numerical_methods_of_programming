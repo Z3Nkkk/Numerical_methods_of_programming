{
  "nbformat": 4,
  "nbformat_minor": 0,
  "metadata": {
    "colab": {
      "provenance": [],
      "authorship_tag": "ABX9TyNE2VMcREoHjXWPZ89pCReM",
      "include_colab_link": true
    },
    "kernelspec": {
      "name": "python3",
      "display_name": "Python 3"
    },
    "language_info": {
      "name": "python"
    }
  },
  "cells": [
    {
      "cell_type": "markdown",
      "metadata": {
        "id": "view-in-github",
        "colab_type": "text"
      },
      "source": [
        "<a href=\"https://colab.research.google.com/github/Z3Nkkk/Numerical_methods_of_programming/blob/main/lb_4.ipynb\" target=\"_parent\"><img src=\"https://colab.research.google.com/assets/colab-badge.svg\" alt=\"Open In Colab\"/></a>"
      ]
    },
    {
      "cell_type": "markdown",
      "source": [
        "1. Знайти матрицю С = AB-BA:"
      ],
      "metadata": {
        "id": "siS4zUvtZcnq"
      }
    },
    {
      "cell_type": "code",
      "execution_count": null,
      "metadata": {
        "colab": {
          "base_uri": "https://localhost:8080/"
        },
        "id": "TPOVEayHMqW1",
        "outputId": "f5b487c3-bed3-4943-c256-835962302d6c"
      },
      "outputs": [
        {
          "output_type": "stream",
          "name": "stdout",
          "text": [
            "C:\n",
            " [[ 4  1  9]\n",
            " [-2 -6  3]\n",
            " [-8 -9  2]]\n"
          ]
        }
      ],
      "source": [
        "import numpy as np\n",
        "\n",
        "arr_A = np.array([[2, 3, 1], [-1, 1, 0], [1, 2, -1]])\n",
        "arr_B = np.array([[1, 2, 1], [0, 1, 2], [3, 1, 1]])\n",
        "\n",
        "C = arr_A.dot(arr_B) - arr_B.dot(arr_A)\n",
        "\n",
        "print(f'C:\\n {C}')"
      ]
    },
    {
      "cell_type": "markdown",
      "source": [
        "2. Піднести матриці до степеня:"
      ],
      "metadata": {
        "id": "EPN4u-byZbDM"
      }
    },
    {
      "cell_type": "code",
      "source": [
        "import numpy as np\n",
        "\n",
        "A = np.matrix('5 0 0 0; 0 -2 0 0; 0 0 3 0; 0 0 0 2')\n",
        "\n",
        "print(pow(A, 2))"
      ],
      "metadata": {
        "colab": {
          "base_uri": "https://localhost:8080/"
        },
        "id": "uKqd-x0WOitt",
        "outputId": "11e51027-2edb-4572-d250-d93287a9d120"
      },
      "execution_count": null,
      "outputs": [
        {
          "output_type": "stream",
          "name": "stdout",
          "text": [
            "[[25  0  0  0]\n",
            " [ 0  4  0  0]\n",
            " [ 0  0  9  0]\n",
            " [ 0  0  0  4]]\n"
          ]
        }
      ]
    },
    {
      "cell_type": "markdown",
      "source": [
        "3. Знайти добуток матриць:"
      ],
      "metadata": {
        "id": "ZZKPXdMSZZBF"
      }
    },
    {
      "cell_type": "code",
      "source": [
        "import numpy as np\n",
        "\n",
        "A = np.matrix('5 8 -4; 6 9 -5; 4 7 -3')\n",
        "B = np.matrix('3 2 5; 4 -1 3; 9 6 5')\n",
        "\n",
        "print(f'AB:\\n {A.dot(B)}')"
      ],
      "metadata": {
        "colab": {
          "base_uri": "https://localhost:8080/"
        },
        "id": "mkb_eel8UycB",
        "outputId": "34282798-b727-435e-ee95-6e6c38e05b68"
      },
      "execution_count": 2,
      "outputs": [
        {
          "output_type": "stream",
          "name": "stdout",
          "text": [
            "AB:\n",
            " [[ 11 -22  29]\n",
            " [  9 -27  32]\n",
            " [ 13 -17  26]]\n"
          ]
        }
      ]
    },
    {
      "cell_type": "markdown",
      "source": [
        "4.\tОбчислити визначники:"
      ],
      "metadata": {
        "id": "JwWxsdVtZTGB"
      }
    },
    {
      "cell_type": "code",
      "source": [
        "import numpy as np\n",
        "\n",
        "A = np.matrix('1 5 -5; 4 0 3; 2 -10 3')\n",
        "A_det = np.linalg.det(A)\n",
        "\n",
        "print(f'Визначник: {round(A_det)}')"
      ],
      "metadata": {
        "colab": {
          "base_uri": "https://localhost:8080/"
        },
        "id": "huqFwAQxXRh7",
        "outputId": "4774f8a6-8424-4b90-ff14-f30354f8adaa"
      },
      "execution_count": 3,
      "outputs": [
        {
          "output_type": "stream",
          "name": "stdout",
          "text": [
            "Визначник: 200\n"
          ]
        }
      ]
    },
    {
      "cell_type": "markdown",
      "source": [
        "5.\tОбчислити визначники."
      ],
      "metadata": {
        "id": "Dk2GPWkSZ4DG"
      }
    },
    {
      "cell_type": "code",
      "source": [
        "import numpy as np\n",
        "\n",
        "A = np.matrix('2 3 4 1; 1 2 3 4; 3 4 1 2; 4 1 2 3')\n",
        "A_det = np.linalg.det(A)\n",
        "\n",
        "print(f'Визначник: {round(A_det)}')"
      ],
      "metadata": {
        "colab": {
          "base_uri": "https://localhost:8080/"
        },
        "id": "fa-I1j29Z8MY",
        "outputId": "75d8ff58-2bc3-4259-8c4c-c9ff2b5078ff"
      },
      "execution_count": 4,
      "outputs": [
        {
          "output_type": "stream",
          "name": "stdout",
          "text": [
            "Визначник: -160\n"
          ]
        }
      ]
    },
    {
      "cell_type": "markdown",
      "source": [
        "6.\tЗнайти обернену матрицю до матриць:"
      ],
      "metadata": {
        "id": "uAD2DpeJbWNf"
      }
    },
    {
      "cell_type": "code",
      "source": [
        "import numpy as np\n",
        "\n",
        "A = np.matrix('2 5 7; 6 3 4; 5 -2 -3')\n",
        "A_inv = np.linalg.inv(A)\n",
        "\n",
        "print(np.linalg.inv(A))"
      ],
      "metadata": {
        "colab": {
          "base_uri": "https://localhost:8080/"
        },
        "id": "yJO8jpGcbVmK",
        "outputId": "80468b53-d44d-4537-d728-c96bada03cd3"
      },
      "execution_count": null,
      "outputs": [
        {
          "output_type": "stream",
          "name": "stdout",
          "text": [
            "[[  1.  -1.   1.]\n",
            " [-38.  41. -34.]\n",
            " [ 27. -29.  24.]]\n"
          ]
        }
      ]
    },
    {
      "cell_type": "markdown",
      "source": [
        "7. Визначити ранг матриці:"
      ],
      "metadata": {
        "id": "E39D2u52dxxY"
      }
    },
    {
      "cell_type": "code",
      "source": [
        "import numpy as np\n",
        "\n",
        "A = np.matrix('-2 3 1 -1; 3 2 1 4; 1 2 3 4; 0 2 3 3')\n",
        "rank = np.linalg.matrix_rank(A)\n",
        "\n",
        "print(f'Ранг матриці: {rank}')"
      ],
      "metadata": {
        "colab": {
          "base_uri": "https://localhost:8080/"
        },
        "id": "UJLX68vqd05Y",
        "outputId": "52d075b3-85d1-4f40-f124-46d2f89a720b"
      },
      "execution_count": 5,
      "outputs": [
        {
          "output_type": "stream",
          "name": "stdout",
          "text": [
            "Ранг матриці: 3\n"
          ]
        }
      ]
    },
    {
      "cell_type": "markdown",
      "source": [
        "8.\tРозв’язати систему лінійних рівнянь методом Крамера. Потім зробити перевірку за допомогою solve() пакету linalg :"
      ],
      "metadata": {
        "id": "ILNbM2V2ecH2"
      }
    },
    {
      "cell_type": "code",
      "source": [
        "import numpy as np\n",
        "\n",
        "A = np.matrix('3 -5 3; 1 2 1; 2 7 -1')\n",
        "B = np.matrix('1; 4; 8')\n",
        "def kram(A,B):\n",
        "    det_A = np.linalg.det(A)\n",
        "    if det_A != 0:\n",
        "       Ax = np.matrix(A)\n",
        "       Ay = np.matrix(A)\n",
        "       Az = np.matrix(A)\n",
        "       Ax[:, 0] = B\n",
        "       Ay[:, 1] = B\n",
        "       Az[:, 2] = B\n",
        "       x = np.linalg.det(Ax)/det_A\n",
        "       y =np.linalg.det(Ay)/det_A\n",
        "       z = np.linalg.det(Az)/det_A\n",
        "       print(\"Розв'язування системи лінійних алгебраїчних рівнянь методом Крамера\")\n",
        "       print(f' x = {round(x)}; y = {round(y)}; z = {round(z)};')\n",
        "    else:\n",
        "        print(\"Визначник дорівнює нулю, система не має розв'язків\")\n",
        "    return x,y,z\n",
        "kram(A,B)\n",
        "print('Перевірка правильності розв’язання:\\n', np.linalg.solve(A,B))\n"
      ],
      "metadata": {
        "colab": {
          "base_uri": "https://localhost:8080/"
        },
        "id": "HOpavBvHecej",
        "outputId": "ddc3d245-c3bb-4d5b-d8d0-dbedc3f8e10e"
      },
      "execution_count": null,
      "outputs": [
        {
          "output_type": "stream",
          "name": "stdout",
          "text": [
            "Розв'язування системи лінійних алгебраїчних рівнянь методом Крамера\n",
            " x = 1; y = 1; z = 1;\n",
            "Перевірка правильності розв’язання:\n",
            " [[1.]\n",
            " [1.]\n",
            " [1.]]\n"
          ]
        }
      ]
    },
    {
      "cell_type": "markdown",
      "source": [
        "8.\tРозв’язати систему лінійних рівнянь матричним методом (тобто обчислити обернену матрицю). Потім зробити перевірку за допомогою solve() пакету linalg :"
      ],
      "metadata": {
        "id": "CtnsXgI2kb3x"
      }
    },
    {
      "cell_type": "code",
      "source": [
        "import numpy as np\n",
        "\n",
        "A = np.matrix('3 -5 3; 1 2 1; 2 7 -1')\n",
        "B = np.matrix('1; 4; 8')\n",
        "A_inv = np.linalg.inv(A)\n",
        "un = A_inv.dot(B)\n",
        "\n",
        "print(f'X ={un[0]}; Y ={un[1]}; Z ={un[2]}')\n",
        "print('Перевірка правильності розв’язання:\\n', np.linalg.solve(A,B))"
      ],
      "metadata": {
        "colab": {
          "base_uri": "https://localhost:8080/"
        },
        "id": "svBGj3pmkcRM",
        "outputId": "903586ce-5dc3-4466-f475-3f7ea8702fe3"
      },
      "execution_count": null,
      "outputs": [
        {
          "output_type": "stream",
          "name": "stdout",
          "text": [
            "X =[[1.]]; Y =[[1.]]; Z =[[1.]]\n",
            "Перевірка правильності розв’язання:\n",
            " [[1.]\n",
            " [1.]\n",
            " [1.]]\n"
          ]
        }
      ]
    },
    {
      "cell_type": "markdown",
      "source": [
        "2.2 Створіть прямокутну матрицю A з N рядками та стовпцями M з випадкових елементів. Знайдіть найнижче значення серед середніх значень для кожного рядка матриці."
      ],
      "metadata": {
        "id": "iOLAHZU9zcU9"
      }
    },
    {
      "cell_type": "code",
      "source": [
        "import random as r\n",
        "\n",
        "N = 4\n",
        "M = 2\n",
        "A = np.arange(N*M).reshape(N, M)\n",
        "aver_st = []\n",
        "\n",
        "for i in range(N):\n",
        "  sum = 0\n",
        "  for j in range(M):\n",
        "    a = r.randint(-9, 9)\n",
        "    A[i][j] = a\n",
        "    sum += a\n",
        "  aver = sum/M\n",
        "  aver_st.append(aver)\n",
        "\n",
        "print(A)\n",
        "print(f'Найменше середнє значення серед рядків: {min(aver_st)}')"
      ],
      "metadata": {
        "colab": {
          "base_uri": "https://localhost:8080/"
        },
        "id": "pIrbBEkDo1er",
        "outputId": "b15a4ce0-c3e1-4ff3-9da5-fc6d4b447e28"
      },
      "execution_count": null,
      "outputs": [
        {
          "output_type": "stream",
          "name": "stdout",
          "text": [
            "[[ 4 -9]\n",
            " [-2  1]\n",
            " [ 5 -1]\n",
            " [ 6  4]]\n",
            "Найменше середнє значення серед рядків: -2.5\n"
          ]
        }
      ]
    }
  ]
}