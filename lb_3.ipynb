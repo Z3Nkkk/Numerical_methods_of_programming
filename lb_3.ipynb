{
  "nbformat": 4,
  "nbformat_minor": 0,
  "metadata": {
    "colab": {
      "provenance": [],
      "authorship_tag": "ABX9TyOE3jInmH7qYVDrKDvCW5JG",
      "include_colab_link": true
    },
    "kernelspec": {
      "name": "python3",
      "display_name": "Python 3"
    },
    "language_info": {
      "name": "python"
    }
  },
  "cells": [
    {
      "cell_type": "markdown",
      "metadata": {
        "id": "view-in-github",
        "colab_type": "text"
      },
      "source": [
        "<a href=\"https://colab.research.google.com/github/Z3Nkkk/Numerical_methods_of_programming/blob/main/lb_3.ipynb\" target=\"_parent\"><img src=\"https://colab.research.google.com/assets/colab-badge.svg\" alt=\"Open In Colab\"/></a>"
      ]
    },
    {
      "cell_type": "code",
      "execution_count": 35,
      "metadata": {
        "colab": {
          "base_uri": "https://localhost:8080/"
        },
        "id": "z9vCmh5ntSHO",
        "outputId": "0226da9a-ee10-4714-a3d4-b0c19861cc8e"
      },
      "outputs": [
        {
          "output_type": "stream",
          "name": "stdout",
          "text": [
            "Розв’язання нелінійного рівняння методом Ньютона\n",
            "\n",
            "Розв’язок рівняння на відрізку [-1, 0] = -0.9683768013782245\n",
            "\n",
            "Розв’язок рівняння на відрізку [1, 2] = 1.267486162286482\n",
            "\n"
          ]
        },
        {
          "output_type": "stream",
          "name": "stderr",
          "text": [
            "<ipython-input-35-548cc569e520>:29: DeprecationWarning: scipy.misc.derivative is deprecated in SciPy v1.10.0; and will be completely removed in SciPy v1.12.0. You may consider using findiff: https://github.com/maroba/findiff or numdifftools: https://github.com/pbrod/numdifftools\n",
            "  if (f(b) * derivative(f, b, n = 2) > 0):\n",
            "<ipython-input-35-548cc569e520>:34: DeprecationWarning: scipy.misc.derivative is deprecated in SciPy v1.10.0; and will be completely removed in SciPy v1.12.0. You may consider using findiff: https://github.com/maroba/findiff or numdifftools: https://github.com/pbrod/numdifftools\n",
            "  xi_1 = xi - f(xi) / derivative(f, xi, n = 1)\n",
            "<ipython-input-35-548cc569e520>:38: DeprecationWarning: scipy.misc.derivative is deprecated in SciPy v1.10.0; and will be completely removed in SciPy v1.12.0. You may consider using findiff: https://github.com/maroba/findiff or numdifftools: https://github.com/pbrod/numdifftools\n",
            "  xi_1 = xi - f(xi) / derivative(f, xi, n = 1)\n"
          ]
        }
      ],
      "source": [
        "import numpy as np\n",
        "import math\n",
        "from scipy.misc import derivative\n",
        "\n",
        "def f(x):\n",
        "    return 6 * pow(x, 4) - 4 * pow(x, 3) - pow(x, 2) + x - 7\n",
        "eps = 0.0001\n",
        "\n",
        "def find_segments():\n",
        "\n",
        "    search_range = np.arange(-10, 10, 1)\n",
        "    a = None\n",
        "    previous_x = None\n",
        "    current_x = None\n",
        "    segments = []\n",
        "\n",
        "    for x in search_range:\n",
        "        current_x = f(x)\n",
        "        if previous_x != None and previous_x * current_x < 0:\n",
        "          segments.append((a, x))\n",
        "        a = x\n",
        "        previous_x = current_x\n",
        "    return segments\n",
        "\n",
        "segments = find_segments()\n",
        "\n",
        "def Nuton(a, b, eps):\n",
        "\n",
        "    if (f(b) * derivative(f, b, n = 2) > 0):\n",
        "        xi = b\n",
        "    else:\n",
        "        xi = a\n",
        "\n",
        "    xi_1 = xi - f(xi) / derivative(f, xi, n = 1)\n",
        "\n",
        "    while (abs(xi_1 - xi) > eps):\n",
        "        xi = xi_1\n",
        "        xi_1 = xi - f(xi) / derivative(f, xi, n = 1)\n",
        "\n",
        "    return (xi_1)\n",
        "\n",
        "print('Розв’язання нелінійного рівняння методом Ньютона\\n')\n",
        "\n",
        "for a,b in segments:\n",
        "    print(f'Розв’язок рівняння на відрізку [{a}, {b}] = {Nuton (a, b, eps)}\\n')\n"
      ]
    },
    {
      "cell_type": "code",
      "source": [
        "import numpy as np\n",
        "import math\n",
        "from scipy.misc import derivative\n",
        "\n",
        "def f(x):\n",
        "    return 6 * pow(x, 4) - 4 * pow(x, 3) - pow(x, 2) + x - 7\n",
        "eps = 0.0001\n",
        "\n",
        "def find_segments():\n",
        "\n",
        "    search_range = np.arange(-10, 10, 1)\n",
        "    a = None\n",
        "    previous_x = None\n",
        "    current_x = None\n",
        "    segments = []\n",
        "\n",
        "    for x in search_range:\n",
        "        current_x = f(x)\n",
        "        if previous_x != None and previous_x * current_x < 0:\n",
        "          segments.append((a, x))\n",
        "        a = x\n",
        "        previous_x = current_x\n",
        "    return segments\n",
        "\n",
        "segments = find_segments()\n",
        "\n",
        "def komb(a, b, eps):\n",
        "\n",
        "    if (derivative(f, a, n = 1)*derivative(f, a, n = 2)>0):\n",
        "        ai = a\n",
        "        bi = b\n",
        "    else:\n",
        "        ai = b\n",
        "        bi = a\n",
        "\n",
        "    while abs(ai - bi) > eps:\n",
        "        ai -= f(ai) * (bi - ai) / ( f(bi) - f(ai) )\n",
        "        bi -= f(bi) / derivative(f, bi, n= 1)\n",
        "\n",
        "    x = (ai + bi) / 2\n",
        "    return (x);\n",
        "\n",
        "print('Розв’язання нелінійного рівняння комбінованим методом\\n')\n",
        "\n",
        "for a,b in segments:\n",
        "    print(f'Розв’язок рівняння на відрізку [{a}, {b}] = {komb (a, b, eps)}\\n')\n"
      ],
      "metadata": {
        "colab": {
          "base_uri": "https://localhost:8080/"
        },
        "id": "guvhKmR8MPyj",
        "outputId": "eb82f0fc-4d05-4071-9696-61e552de291e"
      },
      "execution_count": null,
      "outputs": [
        {
          "output_type": "stream",
          "name": "stdout",
          "text": [
            "Розв’язання нелінійного рівняння комбінованим методом\n",
            "\n",
            "Розв’язок рівняння на відрізку [-1, 0] = -0.9683343488584677\n",
            "\n",
            "Розв’язок рівняння на відрізку [1, 2] = 1.267460262274008\n",
            "\n"
          ]
        },
        {
          "output_type": "stream",
          "name": "stderr",
          "text": [
            "<ipython-input-34-b0b5e9808ac1>:29: DeprecationWarning: scipy.misc.derivative is deprecated in SciPy v1.10.0; and will be completely removed in SciPy v1.12.0. You may consider using findiff: https://github.com/maroba/findiff or numdifftools: https://github.com/pbrod/numdifftools\n",
            "  if (derivative(f, a, n = 1)*derivative(f, a, n = 2)>0):\n",
            "<ipython-input-34-b0b5e9808ac1>:38: DeprecationWarning: scipy.misc.derivative is deprecated in SciPy v1.10.0; and will be completely removed in SciPy v1.12.0. You may consider using findiff: https://github.com/maroba/findiff or numdifftools: https://github.com/pbrod/numdifftools\n",
            "  bi -= f(bi) / derivative(f, bi, n= 1)\n"
          ]
        }
      ]
    }
  ]
}