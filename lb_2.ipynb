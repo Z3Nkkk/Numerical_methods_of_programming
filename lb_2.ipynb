{
  "cells": [
    {
      "cell_type": "markdown",
      "metadata": {
        "id": "view-in-github",
        "colab_type": "text"
      },
      "source": [
        "<a href=\"https://colab.research.google.com/github/Z3Nkkk/Numerical_methods_of_programming/blob/main/lb_2.ipynb\" target=\"_parent\"><img src=\"https://colab.research.google.com/assets/colab-badge.svg\" alt=\"Open In Colab\"/></a>"
      ]
    },
    {
      "cell_type": "code",
      "execution_count": 27,
      "metadata": {
        "colab": {
          "base_uri": "https://localhost:8080/"
        },
        "id": "xhavGJBAk7dE",
        "outputId": "f6cf07c4-8a92-4dfe-8ffa-5e27c587cc56"
      },
      "outputs": [
        {
          "output_type": "stream",
          "name": "stdout",
          "text": [
            "Знайдено відрізок:  [-1, 0]\n",
            "\n",
            "Розв’язок рівняння на відрізку [-1, 0]: \n",
            "x=  -0.96829  - Метод половинного ділення\n",
            "---------------------------------------------\n",
            "Знайдено відрізок:  [1, 2]\n",
            "\n",
            "Розв’язок рівняння на відрізку [1, 2]: \n",
            "x=  1.26743  - Метод половинного ділення\n",
            "---------------------------------------------\n"
          ]
        }
      ],
      "source": [
        "import math\n",
        "import numpy as np\n",
        "\n",
        "def f(x):\n",
        "   return 6*pow(x, 4) - 4*pow(x,3) - pow(x, 2) + x - 7\n",
        "eps=0.0001\n",
        "\n",
        "def find_segments():\n",
        "\n",
        "    search_range = np.arange(-10, 10, 1)\n",
        "    a = None\n",
        "    previous_x = None\n",
        "    current_x = None\n",
        "    segments = []\n",
        "\n",
        "    for x in search_range:\n",
        "        current_x = f(x)\n",
        "        if previous_x != None and previous_x * current_x < 0:\n",
        "          segments.append((a, x))\n",
        "        a = x\n",
        "        previous_x = current_x\n",
        "    return segments\n",
        "\n",
        "segments = find_segments()\n",
        "\n",
        "def half_div(a, b, eps):\n",
        "    while (abs(a-b) > eps):\n",
        "        if f(a) * f((a + b) / 2) < 0:\n",
        "            b = (a + b) / 2\n",
        "        else:\n",
        "            a = (a + b) / 2\n",
        "        x = (a + b) / 2\n",
        "\n",
        "    print ('x = ', round(x, 5), ' - Метод половинного ділення')\n",
        "\n",
        "for a, b in segments:\n",
        "    print(f'Знайдено відрізок:  [{a}, {b}]\\n')\n",
        "    print (f'Розв’язок рівняння на відрізку [{a}, {b}]: ')\n",
        "    half_div (a, b, eps)\n",
        "    print('---------------------------------------------')\n",
        "\n"
      ]
    },
    {
      "cell_type": "code",
      "source": [
        "import math\n",
        "import numpy as np\n",
        "from scipy.misc import derivative\n",
        "\n",
        "def f(x):\n",
        "   return 6*pow(x, 4) - 4*pow(x,3) - pow(x, 2) + x - 7\n",
        "eps=0.0001\n",
        "\n",
        "def find_segments():\n",
        "\n",
        "    search_range = np.arange(-10, 10, 1)\n",
        "    a = None\n",
        "    previous_x = None\n",
        "    current_x = None\n",
        "    segments = []\n",
        "\n",
        "    for x in search_range:\n",
        "        current_x = f(x)\n",
        "        if previous_x != None and previous_x * current_x < 0:\n",
        "          segments.append((a, x))\n",
        "        a = x\n",
        "        previous_x = current_x\n",
        "    return segments\n",
        "\n",
        "segments = find_segments()\n",
        "\n",
        "\n",
        "def hord (a, b, eps):\n",
        "    if (f(a) * derivative(f, a, n = 2) > 0):\n",
        "        x0 = a\n",
        "        x1 = b\n",
        "    else:\n",
        "        x0 = b\n",
        "        x1 = a\n",
        "    y = x1 - (x1 - x0) * f(x1) / (f(x1) - f(x0))\n",
        "    while (abs(y - x1) > eps):\n",
        "        x1 = y\n",
        "        y = x1 - (x1 - x0) * f(x1) / (f(x1) - f(x0))\n",
        "    print('x = ', round (y, 5) , ' - Метод хорд')\n",
        "\n",
        "for a, b in segments:\n",
        "    print(f'Знайдено відрізок:  [{a}, {b}]\\n')\n",
        "    print (f'Розв’язок рівняння на відрізку [{a}, {b}]: ')\n",
        "    hord (a, b, eps)\n",
        "    print('---------------------------------------------')"
      ],
      "metadata": {
        "colab": {
          "base_uri": "https://localhost:8080/"
        },
        "id": "RbtY3GnJAUOz",
        "outputId": "16fd96a8-ebb3-4895-c695-bd3b6376b4a7"
      },
      "execution_count": 26,
      "outputs": [
        {
          "output_type": "stream",
          "name": "stdout",
          "text": [
            "Знайдено відрізок:  [-1, 0]\n",
            "\n",
            "Розв’язок рівняння на відрізку [-1, 0]: \n",
            "x=  -0.96829  - Метод хорд\n",
            "---------------------------------------------\n",
            "Знайдено відрізок:  [1, 2]\n",
            "\n",
            "Розв’язок рівняння на відрізку [1, 2]: \n",
            "x=  1.26731  - Метод хорд\n",
            "---------------------------------------------\n"
          ]
        },
        {
          "output_type": "stream",
          "name": "stderr",
          "text": [
            "<ipython-input-26-bb87a32f9761>:29: DeprecationWarning: scipy.misc.derivative is deprecated in SciPy v1.10.0; and will be completely removed in SciPy v1.12.0. You may consider using findiff: https://github.com/maroba/findiff or numdifftools: https://github.com/pbrod/numdifftools\n",
            "  if (f(a) * derivative(f, a, n = 2) > 0):\n"
          ]
        }
      ]
    }
  ],
  "metadata": {
    "colab": {
      "provenance": [],
      "authorship_tag": "ABX9TyOnmayDnNKHyJLTzFkSQ8H5",
      "include_colab_link": true
    },
    "kernelspec": {
      "display_name": "Python 3",
      "name": "python3"
    },
    "language_info": {
      "name": "python"
    }
  },
  "nbformat": 4,
  "nbformat_minor": 0
}