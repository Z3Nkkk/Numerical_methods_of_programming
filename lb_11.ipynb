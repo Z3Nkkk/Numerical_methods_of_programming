{
  "nbformat": 4,
  "nbformat_minor": 0,
  "metadata": {
    "colab": {
      "provenance": [],
      "authorship_tag": "ABX9TyN9GgEjiG5iP9xFSPZIfpPQ",
      "include_colab_link": true
    },
    "kernelspec": {
      "name": "python3",
      "display_name": "Python 3"
    },
    "language_info": {
      "name": "python"
    }
  },
  "cells": [
    {
      "cell_type": "markdown",
      "metadata": {
        "id": "view-in-github",
        "colab_type": "text"
      },
      "source": [
        "<a href=\"https://colab.research.google.com/github/Z3Nkkk/Numerical_methods_of_programming/blob/main/lb_11.ipynb\" target=\"_parent\"><img src=\"https://colab.research.google.com/assets/colab-badge.svg\" alt=\"Open In Colab\"/></a>"
      ]
    },
    {
      "cell_type": "markdown",
      "source": [
        "Обчислення інтеграла методом прямокутників"
      ],
      "metadata": {
        "id": "kAHBEh1kfXa9"
      }
    },
    {
      "cell_type": "code",
      "source": [
        "from scipy import integrate\n",
        "import numpy as np\n",
        "\n",
        "eps = 0.0001\n",
        "a = 0.6\n",
        "b = 1.6\n",
        "n = 10\n",
        "\n",
        "def f1(x):\n",
        "  return np.power(np.sqrt(x + 0.8), -1)\n",
        "\n",
        "def left_rec(f1, a, b, n):\n",
        "  h = (b - a) / n\n",
        "  sum = 0\n",
        "  for i in range(0, n):\n",
        "    sum += f1(a + i * h)\n",
        "  return sum * h\n",
        "\n",
        "def right_rec(f1, a, b, n):\n",
        "  h = (b - a) / n\n",
        "  sum = 0\n",
        "  for i in range(1, n + 1):\n",
        "    sum += f1(a + i * h)\n",
        "  return sum * h\n",
        "\n",
        "def aver_rec(f1, a, b, n):\n",
        "  h = (b - a) / n\n",
        "  x = a + h/2\n",
        "  sum = f1(x)\n",
        "  for i in range(0, n - 1):\n",
        "    sum += f1(x + h)\n",
        "    x += h\n",
        "  return sum * h\n",
        "\n",
        "def spec(def_letter, def_1, def_2, eps, n):\n",
        "  while abs(def_2 - def_1) / 2 > eps:\n",
        "    def_1 = def_2\n",
        "    n *= 2\n",
        "    if(def_letter == \"l\"):\n",
        "      def_2 = left_rec(f1, a, b, n)\n",
        "    elif(def_letter == \"r\"):\n",
        "      def_2 = right_rec(f1, a, b, n)\n",
        "    else:\n",
        "      def_2 = aver_rec(f1, a, b, n)\n",
        "  return def_2\n",
        "\n",
        "print(\"left rectangle:\",round (spec(\"l\", left_rec(f1, a, b, n), left_rec(f1, a, b, n*2), eps, n), 5))\n",
        "print(\"right rectangle:\",round (spec(\"r\", right_rec(f1, a, b, n), right_rec(f1, a, b, n*2), eps, n), 5))\n",
        "print(\"average rectangle:\",round (spec(\"a\", aver_rec(f1, a, b, n), aver_rec(f1, a, b, n*2), eps, n), 5))\n",
        "\n",
        "v,err = integrate.quad(f1, a, b)\n",
        "print(\"Check for the rectangle method= \",round (v, 5))"
      ],
      "metadata": {
        "colab": {
          "base_uri": "https://localhost:8080/"
        },
        "id": "EoWd1L5eUolk",
        "outputId": "50005ae2-4193-474f-fbdd-4b88855fefd4"
      },
      "execution_count": 96,
      "outputs": [
        {
          "output_type": "stream",
          "name": "stdout",
          "text": [
            "left rectangle: 0.73698\n",
            "right rectangle: 0.727\n",
            "average rectangle: 0.73194\n",
            "Check for the rectangle method=  0.73195\n"
          ]
        }
      ]
    },
    {
      "cell_type": "markdown",
      "source": [
        "Обчислення інтеграла методом Сімпсона"
      ],
      "metadata": {
        "id": "nPgwJ6LA0504"
      }
    },
    {
      "cell_type": "code",
      "source": [
        "from scipy import integrate\n",
        "import numpy as np\n",
        "\n",
        "def f(x):\n",
        " return np.log(x**2 + 1) * np.power(2 * x - 1, -1)\n",
        "\n",
        "eps = 0.0001\n",
        "a = 1.2\n",
        "b = 2.8\n",
        "n = 8\n",
        "\n",
        "def simpson_rule(f, a, b, n):\n",
        "  h = (b - a) / n\n",
        "  integr = f(a) + f(b)\n",
        "  for i in range(1,n):\n",
        "    k = a + i*h\n",
        "    if i%2 == 0:\n",
        "      integr += 2 * f(k)\n",
        "    else:\n",
        "      integr += 4 * f(k)\n",
        "  integr *= h/3\n",
        "  return integr\n",
        "\n",
        "integral1 = simpson_rule(f, a, b, n)\n",
        "n *= 2\n",
        "integral2 = simpson_rule(f, a, b, n*2)\n",
        "\n",
        "while abs(integral2 - integral1) / 2 > eps:\n",
        " integral1 = integral2\n",
        " n *= 2\n",
        " integral2 = simpson_rule(f, a, b, n)\n",
        "\n",
        "print(\"Simpsone method:\", round(integral2, 5))\n",
        "v,err = integrate.quad(f,a,b)\n",
        "print(\"Check for the simpsone method= \",round(v, 5))"
      ],
      "metadata": {
        "colab": {
          "base_uri": "https://localhost:8080/"
        },
        "id": "5CfkDQ9P05dI",
        "outputId": "bdca82b1-66cb-4503-a081-30a7b4fcce4a"
      },
      "execution_count": 116,
      "outputs": [
        {
          "output_type": "stream",
          "name": "stdout",
          "text": [
            "Simpsone method: 0.86701\n",
            "Check for the simpsone method=  0.86701\n"
          ]
        }
      ]
    },
    {
      "cell_type": "markdown",
      "source": [
        "Обчислення інтегралу методом трапецій"
      ],
      "metadata": {
        "id": "5lZLnL7DVo7g"
      }
    },
    {
      "cell_type": "code",
      "execution_count": 100,
      "metadata": {
        "colab": {
          "base_uri": "https://localhost:8080/"
        },
        "id": "vG4dDxFvROPs",
        "outputId": "e6ec3e26-1cb7-4864-f6e9-5a7ab5bcedbb"
      },
      "outputs": [
        {
          "output_type": "stream",
          "name": "stdout",
          "text": [
            "Trapetzia methodof: 0.52367\n",
            "Check for the trapetzia method=  0.52345\n"
          ]
        }
      ],
      "source": [
        "from scipy import integrate\n",
        "import numpy as np\n",
        "\n",
        "def f(x):\n",
        "  return np.power(np.sqrt(2 + 0.5*(x**2)), -1)\n",
        "\n",
        "eps = 0.0001\n",
        "a = 0.4\n",
        "b = 1.2\n",
        "n = 20\n",
        "\n",
        "def trapezoidal_rule(f, a, b, n):\n",
        "  h = (b - a) / n\n",
        "  x = a\n",
        "  sum = f(x)\n",
        "  for i in range(1, n):\n",
        "    x += h\n",
        "    sum += f(x)\n",
        "  integral = h * ((f(a) + f(b))/2 + sum)\n",
        "  return integral\n",
        "\n",
        "integral_1 = trapezoidal_rule(f, a, b, n)\n",
        "n *= 2\n",
        "integral_2 = trapezoidal_rule(f, a, b, n)\n",
        "\n",
        "while abs(integral_2 - integral_1) / 2 > eps:\n",
        "  integral_1 = integral_2\n",
        "  n *= 2\n",
        "  integral_2 = trapezoidal_rule(f, a, b, n)\n",
        "\n",
        "print(\"Trapetzia methodof:\", round(integral_2, 5))\n",
        "\n",
        "v,err = integrate.quad(f, a, b) #Перевірка\n",
        "print(\"Check for the trapetzia method= \",round(v, 5))"
      ]
    }
  ]
}