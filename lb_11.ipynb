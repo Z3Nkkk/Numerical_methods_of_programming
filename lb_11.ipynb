{
  "nbformat": 4,
  "nbformat_minor": 0,
  "metadata": {
    "colab": {
      "provenance": [],
      "authorship_tag": "ABX9TyP574Gsm5J3El/9u+fmFajA",
      "include_colab_link": true
    },
    "kernelspec": {
      "name": "python3",
      "display_name": "Python 3"
    },
    "language_info": {
      "name": "python"
    }
  },
  "cells": [
    {
      "cell_type": "markdown",
      "metadata": {
        "id": "view-in-github",
        "colab_type": "text"
      },
      "source": [
        "<a href=\"https://colab.research.google.com/github/Z3Nkkk/Numerical_methods_of_programming/blob/main/lb_11.ipynb\" target=\"_parent\"><img src=\"https://colab.research.google.com/assets/colab-badge.svg\" alt=\"Open In Colab\"/></a>"
      ]
    },
    {
      "cell_type": "markdown",
      "source": [
        "Обчислення інтеграла методом прямокутників"
      ],
      "metadata": {
        "id": "kAHBEh1kfXa9"
      }
    },
    {
      "cell_type": "code",
      "source": [
        "from scipy import integrate\n",
        "import numpy as np\n",
        "\n",
        "eps = 0.0001\n",
        "a = 0.6\n",
        "b = 1.6\n",
        "n = 10\n",
        "\n",
        "def f1(x):\n",
        "  return np.power(np.sqrt(x + 0.8), -1)\n",
        "\n",
        "def left_rec(f1, a, b, n):\n",
        "  h = (b - a) / n\n",
        "  sum = 0\n",
        "  for i in range(0, n):\n",
        "    sum += f1(a + i*h)\n",
        "  return sum * h\n",
        "\n",
        "def right_rec(f1, a, b, n):\n",
        "  h = (b - a) / n\n",
        "  sum = 0\n",
        "  for i in range(1, n + 1):\n",
        "    sum += f1(a + i*h)\n",
        "  return sum * h\n",
        "\n",
        "def aver_rec(f1, a, b, n):\n",
        "  h = (b - a) / n\n",
        "  x = a + h/2\n",
        "  sum = f1(x)\n",
        "  for i in range(0, n - 1):\n",
        "    sum += f1(x + h)\n",
        "    x += h\n",
        "  return sum * h\n",
        "\n",
        "def spec(def_letter, def_1, def_2, eps, n):\n",
        "  while abs(def_2 - def_1) / 2 > eps:\n",
        "    def_1 = def_2\n",
        "    n *= 2\n",
        "    if(def_letter == \"l\"):\n",
        "      def_2 = left_rec(f1, a, b, n)\n",
        "    elif(def_letter == \"r\"):\n",
        "      def_2 = right_rec(f1, a, b, n)\n",
        "    else:\n",
        "      def_2 = aver_rec(f1, a, b, n)\n",
        "  return def_2\n",
        "\n",
        "print(\"за формулою лівих прямокутників:\",round (spec(\"l\", left_rec(f1, a, b, n), left_rec(f1, a, b, n*2), eps, n), 5))\n",
        "print(\"за формулою правих прямокутників:\",round (spec(\"r\", right_rec(f1, a, b, n), right_rec(f1, a, b, n*2), eps, n), 5))\n",
        "print(\"за формулою середніх прямокутників:\",round (spec(\"a\", aver_rec(f1, a, b, n), aver_rec(f1, a, b, n*2), eps, n), 5))\n",
        "\n",
        "v,err = integrate.quad(f1, a, b)\n",
        "print(\"\\nПеревірка методу прямокутників =\",round (v, 5))"
      ],
      "metadata": {
        "colab": {
          "base_uri": "https://localhost:8080/"
        },
        "id": "EoWd1L5eUolk",
        "outputId": "af039efb-eaae-4dd5-f302-b9e19ea3ebdb"
      },
      "execution_count": 3,
      "outputs": [
        {
          "output_type": "stream",
          "name": "stdout",
          "text": [
            "за формулою лівих прямокутників: 0.73698\n",
            "за формулою правих прямокутників: 0.727\n",
            "за формулою середніх прямокутників: 0.73194\n",
            "\n",
            "Перевірка методу прямокутників = 0.73195\n"
          ]
        }
      ]
    },
    {
      "cell_type": "markdown",
      "source": [
        "Обчислення інтеграла методом Сімпсона"
      ],
      "metadata": {
        "id": "nPgwJ6LA0504"
      }
    },
    {
      "cell_type": "code",
      "source": [
        "from scipy import integrate\n",
        "import numpy as np\n",
        "\n",
        "def f(x):\n",
        " return np.log(x**2 + 1) * np.power(2 * x - 1, -1)\n",
        "\n",
        "eps = 0.0001\n",
        "a = 1.2\n",
        "b = 2.8\n",
        "n = 8\n",
        "\n",
        "def simpson_rule(f, a, b, n):\n",
        "  h = (b - a) / n\n",
        "  integr = f(a) + f(b)\n",
        "  for i in range(1,n):\n",
        "    k = a + i*h\n",
        "    if i % 2 == 0:\n",
        "      integr += 2 * f(k)\n",
        "    else:\n",
        "      integr += 4 * f(k)\n",
        "  integr *= h/3\n",
        "  return integr\n",
        "\n",
        "integral1 = simpson_rule(f, a, b, n)\n",
        "n *= 2\n",
        "integral2 = simpson_rule(f, a, b, n*2)\n",
        "\n",
        "while abs(integral2 - integral1) / 2 > eps:\n",
        " integral1 = integral2\n",
        " n *= 2\n",
        " integral2 = simpson_rule(f, a, b, n)\n",
        "\n",
        "print(\"метод Сімпсона:\", round(integral2, 5))\n",
        "v,err = integrate.quad(f, a, b)\n",
        "print(\"\\nПеревірка методу Сімпсона =\",round(v, 5))"
      ],
      "metadata": {
        "colab": {
          "base_uri": "https://localhost:8080/"
        },
        "id": "5CfkDQ9P05dI",
        "outputId": "10ab2ed5-1758-411e-a4c3-926fe7019c83"
      },
      "execution_count": 5,
      "outputs": [
        {
          "output_type": "stream",
          "name": "stdout",
          "text": [
            "метод Сімпсона: 0.86701\n",
            "\n",
            "Перевірка методу Сімпсона = 0.86701\n"
          ]
        }
      ]
    },
    {
      "cell_type": "markdown",
      "source": [
        "Обчислення інтегралу методом трапецій"
      ],
      "metadata": {
        "id": "5lZLnL7DVo7g"
      }
    },
    {
      "cell_type": "code",
      "execution_count": 4,
      "metadata": {
        "colab": {
          "base_uri": "https://localhost:8080/"
        },
        "id": "vG4dDxFvROPs",
        "outputId": "6883ab5c-1279-480e-f13b-ea24b77a9ffe"
      },
      "outputs": [
        {
          "output_type": "stream",
          "name": "stdout",
          "text": [
            "метод трапецій: 0.52356\n",
            "\n",
            "Перевірка методу трапецій = 0.52345\n"
          ]
        }
      ],
      "source": [
        "from scipy import integrate\n",
        "import numpy as np\n",
        "\n",
        "def f(x):\n",
        "  return np.power(np.sqrt(2 + 0.5*(x**2)), -1)\n",
        "\n",
        "eps = 0.0001\n",
        "a = 0.4\n",
        "b = 1.2\n",
        "n = 20\n",
        "\n",
        "def trapezoidal_rule(f, a, b, n):\n",
        "  h = (b - a) / n\n",
        "  x = a\n",
        "  sum = f(x)\n",
        "  for i in range(1, n):\n",
        "    x += h\n",
        "    sum += f(x)\n",
        "  integral = h * ((f(a) + f(b))/2 + sum)\n",
        "  return integral\n",
        "\n",
        "integral_1 = trapezoidal_rule(f, a, b, n)\n",
        "n *= 2\n",
        "integral_2 = trapezoidal_rule(f, a, b, n)\n",
        "\n",
        "while abs(integral_2 - integral_1) / 2 > eps:\n",
        "  integral_1 = integral_2\n",
        "  n *= 2\n",
        "  integral_2 = trapezoidal_rule(f, a, b, n)\n",
        "\n",
        "print(\"метод трапецій:\", round(integral_2, 5))\n",
        "\n",
        "v,err = integrate.quad(f, a, b)\n",
        "print(\"\\nПеревірка методу трапецій =\",round(v, 5))"
      ]
    }
  ]
}